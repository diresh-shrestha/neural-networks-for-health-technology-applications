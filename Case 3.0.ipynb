{
 "cells": [
  {
   "cell_type": "markdown",
   "metadata": {},
   "source": [
    "# Case 3. Patient Drug Review"
   ]
  },
  {
   "cell_type": "markdown",
   "metadata": {},
   "source": [
    "*Diresh Shrestha*\n",
    "\n",
    "*Nikita Zaitcev* \n",
    "\n",
    "*Eduard Trukhliaev*"
   ]
  },
  {
   "cell_type": "markdown",
   "metadata": {},
   "source": [
    "Last edited: 19.03.2020\n",
    "\n",
    "Neural Networks for Health Technology Applications\n",
    "\n",
    "Helsinki Metropolia University of Applied Sciences"
   ]
  },
  {
   "cell_type": "markdown",
   "metadata": {},
   "source": [
    "### The task is  to use the methods of text processing and to experiment with recurrent and/or\n",
    "### convolutional (1D) neural networks to create a classifier for a collection of patient drug reviews "
   ]
  },
  {
   "cell_type": "code",
   "execution_count": 1,
   "metadata": {},
   "outputs": [
    {
     "name": "stdout",
     "output_type": "stream",
     "text": [
      "Populating the interactive namespace from numpy and matplotlib\n"
     ]
    }
   ],
   "source": [
    "%pylab inline\n",
    "import time \n",
    "import numpy as np \n",
    "import pandas as pd \n",
    "import tensorflow as tf\n",
    "from sklearn.model_selection import train_test_split\n",
    "from tensorflow.keras.preprocessing.text import Tokenizer \n",
    "from tensorflow.keras.preprocessing.sequence import pad_sequences\n",
    "from tensorflow.keras.models import Sequential \n",
    "from tensorflow.keras.layers import Dense, Activation \n",
    "from sklearn.metrics import confusion_matrix, classification_report, cohen_kappa_score"
   ]
  },
  {
   "cell_type": "markdown",
   "metadata": {},
   "source": [
    "# Data Preprocessing"
   ]
  },
  {
   "cell_type": "code",
   "execution_count": 2,
   "metadata": {},
   "outputs": [],
   "source": [
    "# Change the default figure size\n",
    "plt.rcParams['figure.figsize'] = [12, 5]"
   ]
  },
  {
   "cell_type": "code",
   "execution_count": 3,
   "metadata": {},
   "outputs": [
    {
     "data": {
      "text/html": [
       "<div>\n",
       "<style scoped>\n",
       "    .dataframe tbody tr th:only-of-type {\n",
       "        vertical-align: middle;\n",
       "    }\n",
       "\n",
       "    .dataframe tbody tr th {\n",
       "        vertical-align: top;\n",
       "    }\n",
       "\n",
       "    .dataframe thead th {\n",
       "        text-align: right;\n",
       "    }\n",
       "</style>\n",
       "<table border=\"1\" class=\"dataframe\">\n",
       "  <thead>\n",
       "    <tr style=\"text-align: right;\">\n",
       "      <th></th>\n",
       "      <th>uniqueID</th>\n",
       "      <th>drugName</th>\n",
       "      <th>condition</th>\n",
       "      <th>review</th>\n",
       "      <th>rating</th>\n",
       "      <th>date</th>\n",
       "      <th>usefulCount</th>\n",
       "    </tr>\n",
       "  </thead>\n",
       "  <tbody>\n",
       "    <tr>\n",
       "      <th>0</th>\n",
       "      <td>206461</td>\n",
       "      <td>Valsartan</td>\n",
       "      <td>Left Ventricular Dysfunction</td>\n",
       "      <td>\"It has no side effect, I take it in combinati...</td>\n",
       "      <td>9</td>\n",
       "      <td>20-May-12</td>\n",
       "      <td>27</td>\n",
       "    </tr>\n",
       "    <tr>\n",
       "      <th>1</th>\n",
       "      <td>95260</td>\n",
       "      <td>Guanfacine</td>\n",
       "      <td>ADHD</td>\n",
       "      <td>\"My son is halfway through his fourth week of ...</td>\n",
       "      <td>8</td>\n",
       "      <td>27-Apr-10</td>\n",
       "      <td>192</td>\n",
       "    </tr>\n",
       "    <tr>\n",
       "      <th>2</th>\n",
       "      <td>92703</td>\n",
       "      <td>Lybrel</td>\n",
       "      <td>Birth Control</td>\n",
       "      <td>\"I used to take another oral contraceptive, wh...</td>\n",
       "      <td>5</td>\n",
       "      <td>14-Dec-09</td>\n",
       "      <td>17</td>\n",
       "    </tr>\n",
       "    <tr>\n",
       "      <th>3</th>\n",
       "      <td>138000</td>\n",
       "      <td>Ortho Evra</td>\n",
       "      <td>Birth Control</td>\n",
       "      <td>\"This is my first time using any form of birth...</td>\n",
       "      <td>8</td>\n",
       "      <td>3-Nov-15</td>\n",
       "      <td>10</td>\n",
       "    </tr>\n",
       "    <tr>\n",
       "      <th>4</th>\n",
       "      <td>35696</td>\n",
       "      <td>Buprenorphine / naloxone</td>\n",
       "      <td>Opiate Dependence</td>\n",
       "      <td>\"Suboxone has completely turned my life around...</td>\n",
       "      <td>9</td>\n",
       "      <td>27-Nov-16</td>\n",
       "      <td>37</td>\n",
       "    </tr>\n",
       "  </tbody>\n",
       "</table>\n",
       "</div>"
      ],
      "text/plain": [
       "   uniqueID                  drugName                     condition  \\\n",
       "0    206461                 Valsartan  Left Ventricular Dysfunction   \n",
       "1     95260                Guanfacine                          ADHD   \n",
       "2     92703                    Lybrel                 Birth Control   \n",
       "3    138000                Ortho Evra                 Birth Control   \n",
       "4     35696  Buprenorphine / naloxone             Opiate Dependence   \n",
       "\n",
       "                                              review  rating       date  \\\n",
       "0  \"It has no side effect, I take it in combinati...       9  20-May-12   \n",
       "1  \"My son is halfway through his fourth week of ...       8  27-Apr-10   \n",
       "2  \"I used to take another oral contraceptive, wh...       5  14-Dec-09   \n",
       "3  \"This is my first time using any form of birth...       8   3-Nov-15   \n",
       "4  \"Suboxone has completely turned my life around...       9  27-Nov-16   \n",
       "\n",
       "   usefulCount  \n",
       "0           27  \n",
       "1          192  \n",
       "2           17  \n",
       "3           10  \n",
       "4           37  "
      ]
     },
     "execution_count": 3,
     "metadata": {},
     "output_type": "execute_result"
    }
   ],
   "source": [
    "#Load our training and test set\n",
    "train = pd.read_csv(\"drugsComTrain_raw.csv\")\n",
    "test = pd.read_csv(\"drugsComTest_raw.csv\")\n",
    "\n",
    "train.head()"
   ]
  },
  {
   "cell_type": "code",
   "execution_count": 4,
   "metadata": {},
   "outputs": [
    {
     "data": {
      "text/plain": [
       "['uniqueID',\n",
       " 'drugName',\n",
       " 'condition',\n",
       " 'review',\n",
       " 'rating',\n",
       " 'date',\n",
       " 'usefulCount']"
      ]
     },
     "execution_count": 4,
     "metadata": {},
     "output_type": "execute_result"
    }
   ],
   "source": [
    "#list of all the labels\n",
    "list(train)"
   ]
  },
  {
   "cell_type": "markdown",
   "metadata": {},
   "source": [
    "# 1st Experiment"
   ]
  },
  {
   "cell_type": "markdown",
   "metadata": {},
   "source": [
    "For our first experiment, we tried one-hot encoding."
   ]
  },
  {
   "cell_type": "markdown",
   "metadata": {},
   "source": [
    "### Preparing our training data"
   ]
  },
  {
   "cell_type": "code",
   "execution_count": 5,
   "metadata": {},
   "outputs": [
    {
     "name": "stdout",
     "output_type": "stream",
     "text": [
      "Wall time: 23 s\n"
     ]
    }
   ],
   "source": [
    "%%time\n",
    "# Tokenize the text\n",
    "samples = train['review']\n",
    "tokenizer = Tokenizer(num_words = 5000)\n",
    "tokenizer.fit_on_texts(samples)\n",
    "\n",
    "# Make one hot samples\n",
    "data = tokenizer.texts_to_matrix(samples, mode='binary')"
   ]
  },
  {
   "cell_type": "code",
   "execution_count": 6,
   "metadata": {},
   "outputs": [
    {
     "name": "stdout",
     "output_type": "stream",
     "text": [
      "Wall time: 122 ms\n"
     ]
    }
   ],
   "source": [
    "%%time\n",
    "# Create three different classes\n",
    "# label = 2 or positive, when rating > 6\n",
    "# label = 1 or neutral, when rating = 5 or 6\n",
    "# label = 0 or negative, when rating < 5\n",
    "labels = train['rating'].values\n",
    "for i in range(len(labels)):\n",
    "    x = labels[i]\n",
    "    if x > 6:\n",
    "        labels[i] = 2\n",
    "    elif x == 5 or x == 6:\n",
    "        labels[i] = 1\n",
    "    elif x < 5:\n",
    "        labels[i] = 0\n"
   ]
  },
  {
   "cell_type": "markdown",
   "metadata": {},
   "source": [
    "### Preparing our testing data"
   ]
  },
  {
   "cell_type": "code",
   "execution_count": 7,
   "metadata": {},
   "outputs": [
    {
     "name": "stdout",
     "output_type": "stream",
     "text": [
      "Wall time: 7.75 s\n"
     ]
    }
   ],
   "source": [
    "%%time\n",
    "# Tokenize the text\n",
    "test_samples = test['review']\n",
    "test_tokenizer = Tokenizer(num_words = 5000)\n",
    "test_tokenizer.fit_on_texts(test_samples)\n",
    "\n",
    "# Make one hot samples\n",
    "test_data = test_tokenizer.texts_to_matrix(test_samples, mode='binary')"
   ]
  },
  {
   "cell_type": "code",
   "execution_count": 8,
   "metadata": {},
   "outputs": [
    {
     "name": "stdout",
     "output_type": "stream",
     "text": [
      "Wall time: 40.9 ms\n"
     ]
    }
   ],
   "source": [
    "%%time\n",
    "# Create three different classes\n",
    "# label = 2 or positive, when rating > 6\n",
    "# label = 1 or neutral, when rating = 5 or 6\n",
    "# label = 0 or negative, when rating < 5\n",
    "test_labels = test['rating'].values\n",
    "for i in range(len(test_labels)):\n",
    "    x = test_labels[i]\n",
    "    if x > 6:\n",
    "        test_labels[i] = 2\n",
    "    elif x == 5 or x == 6:\n",
    "        test_labels[i] = 1\n",
    "    elif x < 5:\n",
    "        test_labels[i] = 0\n"
   ]
  },
  {
   "cell_type": "code",
   "execution_count": 9,
   "metadata": {},
   "outputs": [
    {
     "name": "stdout",
     "output_type": "stream",
     "text": [
      "Wall time: 15.2 s\n"
     ]
    }
   ],
   "source": [
    "%%time\n",
    "# Split into training and validation sets\n",
    "x_train, x_val, y_train, y_val = train_test_split(data, labels, test_size = 0.25, random_state = 69)"
   ]
  },
  {
   "cell_type": "code",
   "execution_count": 10,
   "metadata": {},
   "outputs": [
    {
     "name": "stdout",
     "output_type": "stream",
     "text": [
      "Wall time: 75.8 ms\n"
     ]
    }
   ],
   "source": [
    "%%time\n",
    "# Convert outputs to one-hot-coded categoricals\n",
    "from tensorflow.keras.utils import to_categorical\n",
    "y_train_cat = to_categorical(y_train)\n",
    "y_val_cat = to_categorical(y_val)"
   ]
  },
  {
   "cell_type": "markdown",
   "metadata": {},
   "source": [
    "# Model\n",
    "\n",
    "We decided to try solve this task with regular Dense neural network and then we compare result with models,that was designed for this type of problems"
   ]
  },
  {
   "cell_type": "code",
   "execution_count": 11,
   "metadata": {},
   "outputs": [
    {
     "name": "stdout",
     "output_type": "stream",
     "text": [
      "Model: \"sequential\"\n",
      "_________________________________________________________________\n",
      "Layer (type)                 Output Shape              Param #   \n",
      "=================================================================\n",
      "dense (Dense)                (None, 256)               1280256   \n",
      "_________________________________________________________________\n",
      "activation (Activation)      (None, 256)               0         \n",
      "_________________________________________________________________\n",
      "dense_1 (Dense)              (None, 32)                8224      \n",
      "_________________________________________________________________\n",
      "activation_1 (Activation)    (None, 32)                0         \n",
      "_________________________________________________________________\n",
      "dense_2 (Dense)              (None, 3)                 99        \n",
      "_________________________________________________________________\n",
      "activation_2 (Activation)    (None, 3)                 0         \n",
      "=================================================================\n",
      "Total params: 1,288,579\n",
      "Trainable params: 1,288,579\n",
      "Non-trainable params: 0\n",
      "_________________________________________________________________\n"
     ]
    }
   ],
   "source": [
    "# Create a simple sequential model\n",
    "model = Sequential()\n",
    "model.add(Dense(256, input_dim = 5000))\n",
    "model.add(Activation('relu'))\n",
    "model.add(Dense(32))\n",
    "model.add(Activation('relu'))\n",
    "model.add(Dense(3))\n",
    "model.add(Activation('softmax'))\n",
    "model.compile(optimizer = 'adam', loss = 'categorical_crossentropy', metrics = ['acc'])\n",
    "model.summary()"
   ]
  },
  {
   "cell_type": "markdown",
   "metadata": {},
   "source": [
    "## Training the model"
   ]
  },
  {
   "cell_type": "code",
   "execution_count": 12,
   "metadata": {},
   "outputs": [
    {
     "name": "stdout",
     "output_type": "stream",
     "text": [
      "Train on 120972 samples, validate on 40325 samples\n",
      "Epoch 1/10\n",
      "120972/120972 [==============================] - 20s 162us/sample - loss: 0.5426 - acc: 0.7935 - val_loss: 0.4876 - val_acc: 0.8163\n",
      "Epoch 2/10\n",
      "120972/120972 [==============================] - 17s 139us/sample - loss: 0.3505 - acc: 0.8726 - val_loss: 0.4405 - val_acc: 0.8495\n",
      "Epoch 3/10\n",
      "120972/120972 [==============================] - 17s 140us/sample - loss: 0.1501 - acc: 0.9485 - val_loss: 0.5116 - val_acc: 0.8599\n",
      "Epoch 4/10\n",
      "120972/120972 [==============================] - 17s 139us/sample - loss: 0.0548 - acc: 0.9821 - val_loss: 0.7083 - val_acc: 0.8600\n",
      "Epoch 5/10\n",
      "120972/120972 [==============================] - 17s 138us/sample - loss: 0.0293 - acc: 0.9905 - val_loss: 0.8112 - val_acc: 0.8553\n",
      "Epoch 6/10\n",
      "120972/120972 [==============================] - 17s 140us/sample - loss: 0.0219 - acc: 0.9928 - val_loss: 0.9114 - val_acc: 0.8640\n",
      "Epoch 7/10\n",
      "120972/120972 [==============================] - 16s 132us/sample - loss: 0.0140 - acc: 0.9955 - val_loss: 1.1217 - val_acc: 0.8693\n",
      "Epoch 8/10\n",
      "120972/120972 [==============================] - 15s 126us/sample - loss: 0.0122 - acc: 0.9960 - val_loss: 1.1679 - val_acc: 0.8677\n",
      "Epoch 9/10\n",
      "120972/120972 [==============================] - 15s 124us/sample - loss: 0.0106 - acc: 0.9967 - val_loss: 1.1253 - val_acc: 0.8679\n",
      "Epoch 10/10\n",
      "120972/120972 [==============================] - 17s 137us/sample - loss: 0.0088 - acc: 0.9973 - val_loss: 1.2301 - val_acc: 0.8638\n",
      "Wall time: 2min 46s\n"
     ]
    }
   ],
   "source": [
    "%%time\n",
    "history = model.fit(x_train, y_train_cat, \n",
    "                    epochs = 10, \n",
    "                    batch_size = 32,\n",
    "                    verbose = 1,\n",
    "                    validation_data = (x_val, y_val_cat))"
   ]
  },
  {
   "cell_type": "markdown",
   "metadata": {},
   "source": [
    "## Plotting"
   ]
  },
  {
   "cell_type": "code",
   "execution_count": 13,
   "metadata": {},
   "outputs": [
    {
     "data": {
      "image/png": "[encoded data removed]",
      "text/plain": [
       "<Figure size 864x360 with 1 Axes>"
      ]
     },
     "metadata": {
      "needs_background": "light"
     },
     "output_type": "display_data"
    },
    {
     "data": {
      "image/png": "[encoded data removed]",
      "text/plain": [
       "<Figure size 864x360 with 1 Axes>"
      ]
     },
     "metadata": {
      "needs_background": "light"
     },
     "output_type": "display_data"
    }
   ],
   "source": [
    "# Plot the accuracy and loss\n",
    "acc = history.history['acc']\n",
    "val_acc = history.history['val_acc']\n",
    "loss = history.history['loss']\n",
    "val_loss = history.history['val_loss']\n",
    "e = arange(len(acc)) + 1\n",
    "\n",
    "plot(e, acc, label = 'train')\n",
    "plot(e, val_acc, label = 'validation')\n",
    "title('Training and validation accuracy')\n",
    "xlabel('Epoch')\n",
    "grid()\n",
    "legend()\n",
    "\n",
    "figure()\n",
    "\n",
    "plot(e, loss, label = 'train')\n",
    "plot(e, val_loss, label = 'validation')\n",
    "title('Training and validation loss')\n",
    "xlabel('Epoch')\n",
    "grid()\n",
    "legend()\n",
    "\n",
    "show()"
   ]
  },
  {
   "cell_type": "markdown",
   "metadata": {},
   "source": [
    "This model clearly overfits because the training accuracy is close to 100 while the validation accuracy levels out at 85%. The validation also increases while training loss is decreasing"
   ]
  },
  {
   "cell_type": "markdown",
   "metadata": {},
   "source": [
    "## Metrics"
   ]
  },
  {
   "cell_type": "code",
   "execution_count": 14,
   "metadata": {},
   "outputs": [],
   "source": [
    "# Find the predicted values for the test set\n",
    "pred = argmax(model.predict(test_data), axis = 1)"
   ]
  },
  {
   "cell_type": "code",
   "execution_count": 15,
   "metadata": {},
   "outputs": [
    {
     "name": "stdout",
     "output_type": "stream",
     "text": [
      "              precision    recall  f1-score   support\n",
      "\n",
      "           0       0.33      0.30      0.31     13497\n",
      "           1       0.12      0.08      0.10      4829\n",
      "           2       0.69      0.75      0.72     35440\n",
      "\n",
      "    accuracy                           0.58     53766\n",
      "   macro avg       0.38      0.38      0.38     53766\n",
      "weighted avg       0.55      0.58      0.56     53766\n",
      "\n"
     ]
    }
   ],
   "source": [
    "# Calculate the classification report\n",
    "cr = classification_report(test_labels, pred)\n",
    "print(cr)"
   ]
  },
  {
   "cell_type": "code",
   "execution_count": 16,
   "metadata": {},
   "outputs": [
    {
     "name": "stdout",
     "output_type": "stream",
     "text": [
      "[[ 4017  1125  6953]\n",
      " [  866   384  1921]\n",
      " [ 8614  3320 26566]]\n"
     ]
    }
   ],
   "source": [
    "# Calculate the confusion matrix\n",
    "cm = confusion_matrix(test_labels, pred).T\n",
    "print(cm)"
   ]
  },
  {
   "cell_type": "code",
   "execution_count": 17,
   "metadata": {},
   "outputs": [
    {
     "name": "stdout",
     "output_type": "stream",
     "text": [
      "Cohen's kappa (linear)    = 0.090\n",
      "Cohen's kappa (quadratic) = 0.109\n"
     ]
    }
   ],
   "source": [
    "# Calculate the cohen's kappa, both with linear and quadratic weights\n",
    "k = cohen_kappa_score(test_labels, pred)\n",
    "print(f\"Cohen's kappa (linear)    = {k:.3f}\")\n",
    "k2 = cohen_kappa_score(test_labels, pred, weights = 'quadratic')\n",
    "print(f\"Cohen's kappa (quadratic) = {k2:.3f}\")"
   ]
  },
  {
   "cell_type": "markdown",
   "metadata": {},
   "source": [
    "# 2nd Experiment"
   ]
  },
  {
   "cell_type": "markdown",
   "metadata": {},
   "source": [
    "For our next experiment, we tried word embeddings. Also we change our model to 1-D Conv NN"
   ]
  },
  {
   "cell_type": "markdown",
   "metadata": {},
   "source": [
    "## Data Preprocessing"
   ]
  },
  {
   "cell_type": "markdown",
   "metadata": {},
   "source": [
    "### Preparing training data "
   ]
  },
  {
   "cell_type": "code",
   "execution_count": 18,
   "metadata": {},
   "outputs": [
    {
     "name": "stdout",
     "output_type": "stream",
     "text": [
      "Found 51429 unique tokens.\n",
      "Wall time: 9.14 s\n"
     ]
    }
   ],
   "source": [
    "%%time\n",
    "\n",
    "# Convert text to sequences\n",
    "sequences = tokenizer.texts_to_sequences(samples)\n",
    "\n",
    "\n",
    "word_index = tokenizer.word_index\n",
    "print('Found %s unique tokens.' % len(word_index))"
   ]
  },
  {
   "cell_type": "code",
   "execution_count": 19,
   "metadata": {},
   "outputs": [],
   "source": [
    "data1 = pad_sequences(sequences, maxlen=200)"
   ]
  },
  {
   "cell_type": "code",
   "execution_count": 20,
   "metadata": {},
   "outputs": [
    {
     "name": "stdout",
     "output_type": "stream",
     "text": [
      "Shape of data tensor:  (161297, 200)\n",
      "Shape of label tensor:  (161297, 3)\n"
     ]
    }
   ],
   "source": [
    "labels = to_categorical(np.asarray(labels))\n",
    "print('Shape of data tensor: ', data1.shape)\n",
    "print('Shape of label tensor: ', labels.shape)"
   ]
  },
  {
   "cell_type": "markdown",
   "metadata": {},
   "source": [
    "### Preparing testing data"
   ]
  },
  {
   "cell_type": "code",
   "execution_count": 21,
   "metadata": {},
   "outputs": [],
   "source": [
    "test_sequences = test_tokenizer.texts_to_sequences(test_samples)"
   ]
  },
  {
   "cell_type": "code",
   "execution_count": 22,
   "metadata": {},
   "outputs": [],
   "source": [
    "test_data1 = pad_sequences(test_sequences, maxlen=200)\n",
    "test_labels1 = to_categorical(np.asarray(test_labels))"
   ]
  },
  {
   "cell_type": "code",
   "execution_count": 23,
   "metadata": {},
   "outputs": [],
   "source": [
    "VALIDATION_SPLIT = 0.25\n",
    "\n",
    "# split the data into a training set and a validation set\n",
    "indices = np.arange(data.shape[0])\n",
    "np.random.shuffle(indices)\n",
    "data1 = data1[indices]\n",
    "labels = labels[indices]\n",
    "nb_validation_samples = int(VALIDATION_SPLIT * data1.shape[0])\n",
    "\n",
    "x_train1 = data1[:-nb_validation_samples]\n",
    "y_train1 = labels[:-nb_validation_samples]\n",
    "x_val1 = data1[-nb_validation_samples:]\n",
    "y_val1 = labels[-nb_validation_samples:]"
   ]
  },
  {
   "cell_type": "markdown",
   "metadata": {},
   "source": [
    "## Model"
   ]
  },
  {
   "cell_type": "code",
   "execution_count": 24,
   "metadata": {},
   "outputs": [],
   "source": [
    "from tensorflow.keras.layers import Dense, Input, GlobalMaxPooling1D\n",
    "from tensorflow.keras.layers import Conv1D, MaxPooling1D, Embedding\n",
    "from tensorflow.keras.models import Model\n",
    "from tensorflow.keras.initializers import Constant"
   ]
  },
  {
   "cell_type": "code",
   "execution_count": 25,
   "metadata": {},
   "outputs": [
    {
     "name": "stdout",
     "output_type": "stream",
     "text": [
      "Model: \"model\"\n",
      "_________________________________________________________________\n",
      "Layer (type)                 Output Shape              Param #   \n",
      "=================================================================\n",
      "input_1 (InputLayer)         [(None, 200)]             0         \n",
      "_________________________________________________________________\n",
      "embedding (Embedding)        (None, 200, 100)          500000    \n",
      "_________________________________________________________________\n",
      "conv1d (Conv1D)              (None, 198, 128)          38528     \n",
      "_________________________________________________________________\n",
      "max_pooling1d (MaxPooling1D) (None, 66, 128)           0         \n",
      "_________________________________________________________________\n",
      "conv1d_1 (Conv1D)            (None, 64, 128)           49280     \n",
      "_________________________________________________________________\n",
      "max_pooling1d_1 (MaxPooling1 (None, 21, 128)           0         \n",
      "_________________________________________________________________\n",
      "conv1d_2 (Conv1D)            (None, 19, 128)           49280     \n",
      "_________________________________________________________________\n",
      "global_max_pooling1d (Global (None, 128)               0         \n",
      "_________________________________________________________________\n",
      "dense_3 (Dense)              (None, 128)               16512     \n",
      "_________________________________________________________________\n",
      "dense_4 (Dense)              (None, 3)                 387       \n",
      "=================================================================\n",
      "Total params: 653,987\n",
      "Trainable params: 653,987\n",
      "Non-trainable params: 0\n",
      "_________________________________________________________________\n"
     ]
    }
   ],
   "source": [
    "embedding_layer = Embedding(5000,\n",
    "                            100,\n",
    "                            input_length=200,\n",
    "                            trainable=True)\n",
    "\n",
    "sequence_input = Input(shape=(200,), dtype='int32')\n",
    "embedded_sequences = embedding_layer(sequence_input)\n",
    "\n",
    "#A simple 1D ConvNet\n",
    "x = Conv1D(128, 3, activation='relu')(embedded_sequences)\n",
    "x = MaxPooling1D(3)(x)\n",
    "x = Conv1D(128, 3, activation='relu')(x)\n",
    "x = MaxPooling1D(3)(x)\n",
    "x = Conv1D(128, 3, activation='relu')(x)\n",
    "x = GlobalMaxPooling1D()(x)\n",
    "x = Dense(128, activation='relu')(x)\n",
    "preds = Dense(3, activation='softmax')(x)\n",
    "\n",
    "model1 = Model(sequence_input, preds)\n",
    "model1.compile(loss='categorical_crossentropy',\n",
    "              optimizer='rmsprop',\n",
    "              metrics=['acc'])\n",
    "\n",
    "model1.summary()"
   ]
  },
  {
   "cell_type": "markdown",
   "metadata": {},
   "source": [
    "### Training"
   ]
  },
  {
   "cell_type": "code",
   "execution_count": 26,
   "metadata": {},
   "outputs": [
    {
     "name": "stdout",
     "output_type": "stream",
     "text": [
      "Train on 120973 samples, validate on 40324 samples\n",
      "Epoch 1/10\n",
      "120973/120973 [==============================] - 21s 170us/sample - loss: 0.6333 - acc: 0.7539 - val_loss: 0.5429 - val_acc: 0.7994\n",
      "Epoch 2/10\n",
      "120973/120973 [==============================] - 17s 144us/sample - loss: 0.5150 - acc: 0.8069 - val_loss: 0.5081 - val_acc: 0.8144\n",
      "Epoch 3/10\n",
      "120973/120973 [==============================] - 18s 150us/sample - loss: 0.4527 - acc: 0.8287 - val_loss: 0.4946 - val_acc: 0.8181\n",
      "Epoch 4/10\n",
      "120973/120973 [==============================] - 18s 149us/sample - loss: 0.3926 - acc: 0.8507 - val_loss: 0.6058 - val_acc: 0.8041\n",
      "Epoch 5/10\n",
      "120973/120973 [==============================] - 18s 153us/sample - loss: 0.3356 - acc: 0.8733 - val_loss: 0.4947 - val_acc: 0.8296\n",
      "Epoch 6/10\n",
      "120973/120973 [==============================] - 19s 157us/sample - loss: 0.2796 - acc: 0.8961 - val_loss: 0.5137 - val_acc: 0.8335\n",
      "Epoch 7/10\n",
      "120973/120973 [==============================] - 17s 144us/sample - loss: 0.2311 - acc: 0.9167 - val_loss: 0.5578 - val_acc: 0.7844\n",
      "Epoch 8/10\n",
      "120973/120973 [==============================] - 18s 147us/sample - loss: 0.1900 - acc: 0.9317 - val_loss: 1.0588 - val_acc: 0.8155\n",
      "Epoch 9/10\n",
      "120973/120973 [==============================] - 18s 145us/sample - loss: 0.1588 - acc: 0.9438 - val_loss: 0.5777 - val_acc: 0.8407\n",
      "Epoch 10/10\n",
      "120973/120973 [==============================] - 17s 143us/sample - loss: 0.1314 - acc: 0.9540 - val_loss: 0.8909 - val_acc: 0.8125\n",
      "Wall time: 3min 1s\n"
     ]
    }
   ],
   "source": [
    "%%time\n",
    "history1 = model1.fit(x_train1, y_train1,\n",
    "          batch_size=128,\n",
    "          epochs=10,\n",
    "          validation_data=(x_val1, y_val1))"
   ]
  },
  {
   "cell_type": "markdown",
   "metadata": {},
   "source": [
    "### Plotting"
   ]
  },
  {
   "cell_type": "code",
   "execution_count": 27,
   "metadata": {},
   "outputs": [
    {
     "data": {
      "image/png": "[encoded data removed]",
      "text/plain": [
       "<Figure size 864x360 with 1 Axes>"
      ]
     },
     "metadata": {
      "needs_background": "light"
     },
     "output_type": "display_data"
    },
    {
     "data": {
      "image/png": "[encoded data removed]",
      "text/plain": [
       "<Figure size 864x360 with 1 Axes>"
      ]
     },
     "metadata": {
      "needs_background": "light"
     },
     "output_type": "display_data"
    }
   ],
   "source": [
    "# Plot the accuracy and loss\n",
    "acc1 = history1.history['acc']\n",
    "val_acc1 = history1.history['val_acc']\n",
    "loss1 = history1.history['loss']\n",
    "val_loss1 = history1.history['val_loss']\n",
    "e1 = arange(len(acc1)) + 1\n",
    "\n",
    "plot(e1, acc1, label = 'train')\n",
    "plot(e1, val_acc1, label = 'validation')\n",
    "title('Training and validation accuracy')\n",
    "xlabel('Epoch')\n",
    "grid()\n",
    "legend()\n",
    "\n",
    "figure()\n",
    "\n",
    "plot(e1, loss1, label = 'train')\n",
    "plot(e1, val_loss1, label = 'validation')\n",
    "title('Training and validation loss')\n",
    "xlabel('Epoch')\n",
    "grid()\n",
    "legend()\n",
    "\n",
    "show()"
   ]
  },
  {
   "cell_type": "markdown",
   "metadata": {},
   "source": [
    "### Metrics"
   ]
  },
  {
   "cell_type": "code",
   "execution_count": 28,
   "metadata": {},
   "outputs": [
    {
     "name": "stdout",
     "output_type": "stream",
     "text": [
      "              precision    recall  f1-score   support\n",
      "\n",
      "           0       0.39      0.08      0.13     13497\n",
      "           1       0.12      0.14      0.13      4829\n",
      "           2       0.68      0.87      0.76     35440\n",
      "\n",
      "    accuracy                           0.60     53766\n",
      "   macro avg       0.40      0.36      0.34     53766\n",
      "weighted avg       0.56      0.60      0.55     53766\n",
      "\n"
     ]
    }
   ],
   "source": [
    "# Find the predicted values for the test set\n",
    "y_pred = argmax(model1.predict(test_data1), axis = 1)\n",
    "y_true = argmax(test_labels1, axis = 1)\n",
    "\n",
    "# Calculate the classification report\n",
    "cr1 = classification_report(y_true, y_pred)\n",
    "print(cr1)"
   ]
  },
  {
   "cell_type": "code",
   "execution_count": 29,
   "metadata": {},
   "outputs": [
    {
     "name": "stdout",
     "output_type": "stream",
     "text": [
      "[[ 1030   190  1403]\n",
      " [ 1726   671  3211]\n",
      " [10741  3968 30826]]\n"
     ]
    }
   ],
   "source": [
    "# Calculate the confusion matrix\n",
    "cm1 = confusion_matrix(y_true, y_pred).T\n",
    "print(cm1)"
   ]
  },
  {
   "cell_type": "code",
   "execution_count": 30,
   "metadata": {},
   "outputs": [
    {
     "name": "stdout",
     "output_type": "stream",
     "text": [
      "Cohen's kappa (linear)    = 0.060\n",
      "Cohen's kappa (quadratic) = 0.071\n"
     ]
    }
   ],
   "source": [
    "# Calculate the cohen's kappa, both with linear and quadratic weights\n",
    "k3 = cohen_kappa_score(y_true, y_pred)\n",
    "print(f\"Cohen's kappa (linear)    = {k3:.3f}\")\n",
    "k4 = cohen_kappa_score(y_true, y_pred, weights = 'quadratic')\n",
    "print(f\"Cohen's kappa (quadratic) = {k4:.3f}\")"
   ]
  },
  {
   "cell_type": "markdown",
   "metadata": {},
   "source": [
    "# 3rd Experiment"
   ]
  },
  {
   "cell_type": "markdown",
   "metadata": {},
   "source": [
    "For our third experiment, we tried a pretrained word embedding vector GloVe. We used Chollet's book as reference for this part.\n",
    "Also with 1-D Conv"
   ]
  },
  {
   "cell_type": "code",
   "execution_count": 31,
   "metadata": {},
   "outputs": [
    {
     "name": "stdout",
     "output_type": "stream",
     "text": [
      "Found 400000 word vectors.\n"
     ]
    }
   ],
   "source": [
    "import os\n",
    "\n",
    "#glove_dir = \"/glove.6B\"\n",
    "\n",
    "embeddings_index = {}\n",
    "f = open( 'glove.6B.100d.txt', encoding=\"utf8\")\n",
    "for line in f:\n",
    "    values = line.split()\n",
    "    word = values[0]\n",
    "    coefs = np.asarray(values[1:], dtype='float32')\n",
    "    embeddings_index[word] = coefs\n",
    "f.close()\n",
    "\n",
    "print('Found %s word vectors.' % len(embeddings_index))"
   ]
  },
  {
   "cell_type": "code",
   "execution_count": 32,
   "metadata": {},
   "outputs": [],
   "source": [
    "embedding_matrix = np.zeros((len(word_index) + 1, 100))\n",
    "for word, i in word_index.items():\n",
    "    embedding_vector = embeddings_index.get(word)\n",
    "    if embedding_vector is not None:\n",
    "        # words not found in embedding index will be all-zeros.\n",
    "        embedding_matrix[i] = embedding_vector"
   ]
  },
  {
   "cell_type": "code",
   "execution_count": 33,
   "metadata": {},
   "outputs": [],
   "source": [
    "\n",
    "from tensorflow.keras.layers import Dense, Input, GlobalMaxPooling1D\n",
    "from tensorflow.keras.layers import Conv1D, MaxPooling1D, Embedding\n",
    "from tensorflow.keras.models import Model\n",
    "from tensorflow.keras.initializers import Constant\n",
    "\n",
    "embedding_layer1 = Embedding(len(word_index) + 1,\n",
    "                            100,\n",
    "                            weights=[embedding_matrix],\n",
    "                            input_length=200,\n",
    "                            trainable=False)"
   ]
  },
  {
   "cell_type": "code",
   "execution_count": 34,
   "metadata": {},
   "outputs": [
    {
     "name": "stdout",
     "output_type": "stream",
     "text": [
      "Model: \"model_1\"\n",
      "_________________________________________________________________\n",
      "Layer (type)                 Output Shape              Param #   \n",
      "=================================================================\n",
      "input_2 (InputLayer)         [(None, 200)]             0         \n",
      "_________________________________________________________________\n",
      "embedding_1 (Embedding)      (None, 200, 100)          5143000   \n",
      "_________________________________________________________________\n",
      "conv1d_3 (Conv1D)            (None, 198, 128)          38528     \n",
      "_________________________________________________________________\n",
      "max_pooling1d_2 (MaxPooling1 (None, 66, 128)           0         \n",
      "_________________________________________________________________\n",
      "conv1d_4 (Conv1D)            (None, 64, 128)           49280     \n",
      "_________________________________________________________________\n",
      "max_pooling1d_3 (MaxPooling1 (None, 21, 128)           0         \n",
      "_________________________________________________________________\n",
      "conv1d_5 (Conv1D)            (None, 19, 128)           49280     \n",
      "_________________________________________________________________\n",
      "global_max_pooling1d_1 (Glob (None, 128)               0         \n",
      "_________________________________________________________________\n",
      "dense_5 (Dense)              (None, 128)               16512     \n",
      "_________________________________________________________________\n",
      "dense_6 (Dense)              (None, 3)                 387       \n",
      "=================================================================\n",
      "Total params: 5,296,987\n",
      "Trainable params: 153,987\n",
      "Non-trainable params: 5,143,000\n",
      "_________________________________________________________________\n"
     ]
    }
   ],
   "source": [
    "sequence_input = Input(shape=(200,), dtype='int32')\n",
    "embedded_sequences = embedding_layer1(sequence_input)\n",
    "\n",
    "#A simple 1D ConvNet\n",
    "x = Conv1D(128, 3, activation='relu')(embedded_sequences)\n",
    "x = MaxPooling1D(3)(x)\n",
    "x = Conv1D(128, 3, activation='relu')(x)\n",
    "x = MaxPooling1D(3)(x)\n",
    "x = Conv1D(128, 3, activation='relu')(x)\n",
    "x = GlobalMaxPooling1D()(x)\n",
    "x = Dense(128, activation='relu')(x)\n",
    "preds = Dense(3, activation='softmax')(x)\n",
    "\n",
    "model2 = Model(sequence_input, preds)\n",
    "model2.compile(loss='categorical_crossentropy',\n",
    "              optimizer='rmsprop',\n",
    "              metrics=['acc'])\n",
    "\n",
    "model2.summary()"
   ]
  },
  {
   "cell_type": "code",
   "execution_count": 35,
   "metadata": {},
   "outputs": [
    {
     "name": "stdout",
     "output_type": "stream",
     "text": [
      "Train on 120973 samples, validate on 40324 samples\n",
      "Epoch 1/10\n",
      "120973/120973 [==============================] - 12s 100us/sample - loss: 0.7153 - acc: 0.7136 - val_loss: 0.6349 - val_acc: 0.7567\n",
      "Epoch 2/10\n",
      "120973/120973 [==============================] - 11s 94us/sample - loss: 0.5962 - acc: 0.7693 - val_loss: 0.6218 - val_acc: 0.7584\n",
      "Epoch 3/10\n",
      "120973/120973 [==============================] - 11s 95us/sample - loss: 0.5389 - acc: 0.7929 - val_loss: 0.5909 - val_acc: 0.7782\n",
      "Epoch 4/10\n",
      "120973/120973 [==============================] - 11s 95us/sample - loss: 0.4986 - acc: 0.8089 - val_loss: 0.6173 - val_acc: 0.7536\n",
      "Epoch 5/10\n",
      "120973/120973 [==============================] - 11s 94us/sample - loss: 0.4615 - acc: 0.8232 - val_loss: 0.5296 - val_acc: 0.7962\n",
      "Epoch 6/10\n",
      "120973/120973 [==============================] - 11s 93us/sample - loss: 0.4296 - acc: 0.8353 - val_loss: 0.5407 - val_acc: 0.8057\n",
      "Epoch 7/10\n",
      "120973/120973 [==============================] - 11s 95us/sample - loss: 0.4018 - acc: 0.8461 - val_loss: 0.6105 - val_acc: 0.7504\n",
      "Epoch 8/10\n",
      "120973/120973 [==============================] - 11s 94us/sample - loss: 0.3748 - acc: 0.8563 - val_loss: 0.5453 - val_acc: 0.8065\n",
      "Epoch 9/10\n",
      "120973/120973 [==============================] - 11s 93us/sample - loss: 0.3530 - acc: 0.8656 - val_loss: 0.5719 - val_acc: 0.8151\n",
      "Epoch 10/10\n",
      "120973/120973 [==============================] - 11s 94us/sample - loss: 0.3316 - acc: 0.8743 - val_loss: 0.6487 - val_acc: 0.7310\n"
     ]
    }
   ],
   "source": [
    "history2 = model2.fit(x_train1, y_train1, validation_data=(x_val1, y_val1),\n",
    "          epochs=10, batch_size=128)"
   ]
  },
  {
   "cell_type": "code",
   "execution_count": 36,
   "metadata": {},
   "outputs": [
    {
     "data": {
      "image/png": "[encoded data removed]",
      "text/plain": [
       "<Figure size 864x360 with 1 Axes>"
      ]
     },
     "metadata": {
      "needs_background": "light"
     },
     "output_type": "display_data"
    },
    {
     "data": {
      "image/png": "[encoded data removed]",
      "text/plain": [
       "<Figure size 864x360 with 1 Axes>"
      ]
     },
     "metadata": {
      "needs_background": "light"
     },
     "output_type": "display_data"
    }
   ],
   "source": [
    "# Plot the accuracy and loss\n",
    "acc2 = history2.history['acc']\n",
    "val_acc2 = history2.history['val_acc']\n",
    "loss2 = history2.history['loss']\n",
    "val_loss2 = history2.history['val_loss']\n",
    "e2 = arange(len(acc2)) + 1\n",
    "\n",
    "plot(e2, acc2, label = 'train')\n",
    "plot(e2, val_acc2, label = 'validation')\n",
    "title('Training and validation accuracy')\n",
    "xlabel('Epoch')\n",
    "grid()\n",
    "legend()\n",
    "\n",
    "figure()\n",
    "\n",
    "plot(e2, loss2, label = 'train')\n",
    "plot(e2, val_loss2, label = 'validation')\n",
    "title('Training and validation loss')\n",
    "xlabel('Epoch')\n",
    "grid()\n",
    "legend()\n",
    "\n",
    "show()"
   ]
  },
  {
   "cell_type": "code",
   "execution_count": 37,
   "metadata": {},
   "outputs": [
    {
     "name": "stdout",
     "output_type": "stream",
     "text": [
      "              precision    recall  f1-score   support\n",
      "\n",
      "           0       0.34      0.27      0.30     13497\n",
      "           1       0.11      0.40      0.17      4829\n",
      "           2       0.71      0.51      0.60     35440\n",
      "\n",
      "    accuracy                           0.44     53766\n",
      "   macro avg       0.39      0.39      0.36     53766\n",
      "weighted avg       0.57      0.44      0.48     53766\n",
      "\n"
     ]
    }
   ],
   "source": [
    "# Find the predicted values for the test set\n",
    "y_pred1 = argmax(model2.predict(test_data1), axis = 1)\n",
    "y_true1 = argmax(test_labels1, axis = 1)\n",
    "\n",
    "# Calculate the classification report\n",
    "cr2 = classification_report(y_true1, y_pred1)\n",
    "print(cr2)"
   ]
  },
  {
   "cell_type": "code",
   "execution_count": 38,
   "metadata": {},
   "outputs": [
    {
     "name": "stdout",
     "output_type": "stream",
     "text": [
      "[[ 3603   924  6027]\n",
      " [ 4565  1922 11193]\n",
      " [ 5329  1983 18220]]\n"
     ]
    }
   ],
   "source": [
    "# Calculate the confusion matrix\n",
    "cm2 = confusion_matrix(y_true1, y_pred1).T\n",
    "print(cm2)"
   ]
  },
  {
   "cell_type": "code",
   "execution_count": 39,
   "metadata": {},
   "outputs": [
    {
     "name": "stdout",
     "output_type": "stream",
     "text": [
      "Cohen's kappa (linear)    = 0.082\n",
      "Cohen's kappa (quadratic) = 0.120\n"
     ]
    }
   ],
   "source": [
    "# Calculate the cohen's kappa, both with linear and quadratic weights\n",
    "k5 = cohen_kappa_score(y_true1, y_pred1)\n",
    "print(f\"Cohen's kappa (linear)    = {k5:.3f}\")\n",
    "k6 = cohen_kappa_score(y_true1, y_pred1, weights = 'quadratic')\n",
    "print(f\"Cohen's kappa (quadratic) = {k6:.3f}\")"
   ]
  },
  {
   "cell_type": "markdown",
   "metadata": {},
   "source": [
    "# 4th Experiment"
   ]
  },
  {
   "cell_type": "markdown",
   "metadata": {},
   "source": [
    "In the 4th experiment, we tried a simple Recurrent Neural network"
   ]
  },
  {
   "cell_type": "code",
   "execution_count": 40,
   "metadata": {},
   "outputs": [],
   "source": [
    "from tensorflow.keras.models import Sequential\n",
    "from tensorflow.keras.layers import Embedding, SimpleRNN\n",
    "from tensorflow.keras.layers import Dense"
   ]
  },
  {
   "cell_type": "markdown",
   "metadata": {},
   "source": [
    "## Model"
   ]
  },
  {
   "cell_type": "code",
   "execution_count": 41,
   "metadata": {},
   "outputs": [
    {
     "name": "stdout",
     "output_type": "stream",
     "text": [
      "Model: \"sequential_1\"\n",
      "_________________________________________________________________\n",
      "Layer (type)                 Output Shape              Param #   \n",
      "=================================================================\n",
      "embedding_2 (Embedding)      (None, None, 32)          160000    \n",
      "_________________________________________________________________\n",
      "simple_rnn (SimpleRNN)       (None, 32)                2080      \n",
      "_________________________________________________________________\n",
      "dense_7 (Dense)              (None, 3)                 99        \n",
      "=================================================================\n",
      "Total params: 162,179\n",
      "Trainable params: 162,179\n",
      "Non-trainable params: 0\n",
      "_________________________________________________________________\n"
     ]
    }
   ],
   "source": [
    "model3 = Sequential()\n",
    "model3.add(Embedding(5000, 32))\n",
    "model3.add(SimpleRNN(32))\n",
    "model3.add(Dense(3, activation='softmax'))\n",
    "\n",
    "model3.compile(optimizer='rmsprop', loss='binary_crossentropy', metrics=['acc'])\n",
    "model3.summary()\n",
    "\n"
   ]
  },
  {
   "cell_type": "markdown",
   "metadata": {},
   "source": [
    "### Training"
   ]
  },
  {
   "cell_type": "code",
   "execution_count": 42,
   "metadata": {},
   "outputs": [
    {
     "name": "stdout",
     "output_type": "stream",
     "text": [
      "Train on 120973 samples, validate on 40324 samples\n",
      "Epoch 1/10\n",
      "120973/120973 [==============================] - 82s 675us/sample - loss: 0.4054 - acc: 0.8260 - val_loss: 0.3812 - val_acc: 0.8352\n",
      "Epoch 2/10\n",
      "120973/120973 [==============================] - 80s 661us/sample - loss: 0.3383 - acc: 0.8627 - val_loss: 0.3578 - val_acc: 0.8543\n",
      "Epoch 3/10\n",
      "120973/120973 [==============================] - 81s 671us/sample - loss: 0.3195 - acc: 0.8707 - val_loss: 0.3395 - val_acc: 0.8625\n",
      "Epoch 4/10\n",
      "120973/120973 [==============================] - 82s 674us/sample - loss: 0.2999 - acc: 0.8788 - val_loss: 0.3745 - val_acc: 0.8544\n",
      "Epoch 5/10\n",
      "120973/120973 [==============================] - 79s 657us/sample - loss: 0.2811 - acc: 0.8870 - val_loss: 0.3741 - val_acc: 0.8459\n",
      "Epoch 6/10\n",
      "120973/120973 [==============================] - 75s 619us/sample - loss: 0.2640 - acc: 0.8949 - val_loss: 0.3648 - val_acc: 0.8477\n",
      "Epoch 7/10\n",
      "120973/120973 [==============================] - 79s 656us/sample - loss: 0.2486 - acc: 0.9018 - val_loss: 0.3557 - val_acc: 0.8571\n",
      "Epoch 8/10\n",
      "120973/120973 [==============================] - 78s 647us/sample - loss: 0.2309 - acc: 0.9105 - val_loss: 0.3757 - val_acc: 0.8453\n",
      "Epoch 9/10\n",
      "120973/120973 [==============================] - 79s 652us/sample - loss: 0.2160 - acc: 0.9175 - val_loss: 0.3866 - val_acc: 0.8667\n",
      "Epoch 10/10\n",
      "120973/120973 [==============================] - 80s 660us/sample - loss: 0.2005 - acc: 0.9243 - val_loss: 0.3580 - val_acc: 0.8673\n",
      "Wall time: 13min 15s\n"
     ]
    }
   ],
   "source": [
    "%%time\n",
    "history3 = model3.fit(x_train1, y_train1,\n",
    "          batch_size=128,\n",
    "          epochs=10,\n",
    "          validation_data=(x_val1, y_val1))"
   ]
  },
  {
   "cell_type": "markdown",
   "metadata": {},
   "source": [
    "### Plotting"
   ]
  },
  {
   "cell_type": "code",
   "execution_count": 43,
   "metadata": {},
   "outputs": [
    {
     "data": {
      "image/png": "[encoded data removed]",
      "text/plain": [
       "<Figure size 864x360 with 1 Axes>"
      ]
     },
     "metadata": {
      "needs_background": "light"
     },
     "output_type": "display_data"
    },
    {
     "data": {
      "image/png": "[encoded data removed]",
      "text/plain": [
       "<Figure size 864x360 with 1 Axes>"
      ]
     },
     "metadata": {
      "needs_background": "light"
     },
     "output_type": "display_data"
    }
   ],
   "source": [
    "# Plot the accuracy and loss\n",
    "acc3 = history3.history['acc']\n",
    "val_acc3 = history3.history['val_acc']\n",
    "loss3 = history3.history['loss']\n",
    "val_loss3 = history3.history['val_loss']\n",
    "e3 = arange(len(acc3)) + 1\n",
    "\n",
    "plot(e3, acc3, label = 'train')\n",
    "plot(e3, val_acc3, label = 'validation')\n",
    "title('Training and validation accuracy')\n",
    "xlabel('Epoch')\n",
    "grid()\n",
    "legend()\n",
    "\n",
    "figure()\n",
    "\n",
    "plot(e3, loss3, label = 'train')\n",
    "plot(e3, val_loss3, label = 'validation')\n",
    "title('Training and validation loss')\n",
    "xlabel('Epoch')\n",
    "grid()\n",
    "legend()\n",
    "\n",
    "show()"
   ]
  },
  {
   "cell_type": "code",
   "execution_count": 44,
   "metadata": {},
   "outputs": [
    {
     "name": "stdout",
     "output_type": "stream",
     "text": [
      "              precision    recall  f1-score   support\n",
      "\n",
      "           0       0.34      0.26      0.29     13497\n",
      "           1       0.11      0.11      0.11      4829\n",
      "           2       0.69      0.76      0.72     35440\n",
      "\n",
      "    accuracy                           0.57     53766\n",
      "   macro avg       0.38      0.37      0.37     53766\n",
      "weighted avg       0.55      0.57      0.56     53766\n",
      "\n"
     ]
    }
   ],
   "source": [
    "# Find the predicted values for the test set\n",
    "y_pred2 = argmax(model3.predict(test_data1), axis = 1)\n",
    "y_true2 = argmax(test_labels1, axis = 1)\n",
    "\n",
    "# Calculate the classification report\n",
    "cr3 = classification_report(y_true2, y_pred2)\n",
    "print(cr3)"
   ]
  },
  {
   "cell_type": "code",
   "execution_count": 45,
   "metadata": {},
   "outputs": [
    {
     "name": "stdout",
     "output_type": "stream",
     "text": [
      "[[ 3457   976  5713]\n",
      " [ 1499   529  2892]\n",
      " [ 8541  3324 26835]]\n"
     ]
    }
   ],
   "source": [
    "# Calculate the confusion matrix\n",
    "cm3 = confusion_matrix(y_true2, y_pred2).T\n",
    "print(cm3)"
   ]
  },
  {
   "cell_type": "code",
   "execution_count": 46,
   "metadata": {},
   "outputs": [
    {
     "name": "stdout",
     "output_type": "stream",
     "text": [
      "Cohen's kappa (linear)    = 0.090\n",
      "Cohen's kappa (quadratic) = 0.071\n"
     ]
    }
   ],
   "source": [
    "# Calculate the cohen's kappa, both with linear and quadratic weights\n",
    "k7 = cohen_kappa_score(y_true2, y_pred2)\n",
    "print(f\"Cohen's kappa (linear)    = {k7:.3f}\")\n",
    "k8 = cohen_kappa_score(y_true2, y_pred2, weights = 'quadratic')\n",
    "print(f\"Cohen's kappa (quadratic) = {k8:.3f}\")"
   ]
  },
  {
   "cell_type": "markdown",
   "metadata": {},
   "source": [
    "### Conclusion\n",
    "\n",
    "The last model using the RNN has the highest Kappa value on the test set of 9.19. Whereas the 2nd model using word embeddings has the highest accuracy on the test set with 60%. Compared to the original Grässer et al. article, they have an accuracy of 92.25 and Kappa of 83.99 so compared to them, ours performs very poorly.\n"
   ]
  },
  {
   "cell_type": "code",
   "execution_count": null,
   "metadata": {},
   "outputs": [],
   "source": []
  }
 ],
 "metadata": {
  "kernelspec": {
   "display_name": "Python 3",
   "language": "python",
   "name": "python3"
  },
  "language_info": {
   "codemirror_mode": {
    "name": "ipython",
    "version": 3
   },
   "file_extension": ".py",
   "mimetype": "text/x-python",
   "name": "python",
   "nbconvert_exporter": "python",
   "pygments_lexer": "ipython3",
   "version": "3.7.6"
  }
 },
 "nbformat": 4,
 "nbformat_minor": 4
}
